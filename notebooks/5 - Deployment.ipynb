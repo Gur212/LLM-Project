{
 "cells": [
  {
   "cell_type": "code",
   "execution_count": 1,
   "id": "1df958ec-6c98-465c-b501-f59af1429a96",
   "metadata": {},
   "outputs": [],
   "source": [
    "from transformers import TrainingArguments, Trainer, AutoTokenizer, DataCollatorWithPadding, AutoModelForSequenceClassification\n",
    "from datasets import load_dataset\n",
    "from scipy.special import softmax\n",
    "import evaluate\n",
    "import numpy as np\n",
    "import os\n",
    "from huggingface_hub import login"
   ]
  },
  {
   "cell_type": "code",
   "execution_count": 2,
   "id": "665cf29b-e000-43de-a8d6-4560e0de2e37",
   "metadata": {},
   "outputs": [],
   "source": [
    "hf_key = os.getenv('HuggingFace_Key')"
   ]
  },
  {
   "cell_type": "code",
   "execution_count": 3,
   "id": "48272aec-fcb5-4cc5-9bde-bbfc9f55d1dc",
   "metadata": {},
   "outputs": [],
   "source": [
    "login(token=hf_key)"
   ]
  },
  {
   "cell_type": "code",
   "execution_count": 4,
   "id": "a4785deb-9030-4010-a59d-27f4171d2ca1",
   "metadata": {
    "editable": true,
    "slideshow": {
     "slide_type": ""
    },
    "tags": []
   },
   "outputs": [],
   "source": [
    "ds = load_dataset('imdb')"
   ]
  },
  {
   "cell_type": "code",
   "execution_count": 5,
   "id": "11cd4219-8df8-4cc9-a877-71f564139028",
   "metadata": {
    "editable": true,
    "slideshow": {
     "slide_type": ""
    },
    "tags": []
   },
   "outputs": [],
   "source": [
    "id2label = {0: \"NEGATIVE\", 1: \"POSITIVE\"}\n",
    "label2id = {\"NEGATIVE\": 0, \"POSITIVE\": 1}"
   ]
  },
  {
   "cell_type": "code",
   "execution_count": 6,
   "id": "cc99ed66-23e7-46e9-a346-3b6c96fbb773",
   "metadata": {
    "editable": true,
    "slideshow": {
     "slide_type": ""
    },
    "tags": []
   },
   "outputs": [
    {
     "name": "stderr",
     "output_type": "stream",
     "text": [
      "Some weights of DistilBertForSequenceClassification were not initialized from the model checkpoint at distilbert/distilbert-base-uncased and are newly initialized: ['classifier.bias', 'classifier.weight', 'pre_classifier.bias', 'pre_classifier.weight']\n",
      "You should probably TRAIN this model on a down-stream task to be able to use it for predictions and inference.\n"
     ]
    }
   ],
   "source": [
    "model = AutoModelForSequenceClassification.from_pretrained(\n",
    "    \"distilbert/distilbert-base-uncased\", num_labels=2, id2label=id2label, label2id=label2id\n",
    ")"
   ]
  },
  {
   "cell_type": "code",
   "execution_count": 7,
   "id": "c1602926-7453-48c7-a7ea-172dd02b9d56",
   "metadata": {
    "editable": true,
    "slideshow": {
     "slide_type": ""
    },
    "tags": []
   },
   "outputs": [],
   "source": [
    "tokenizer = AutoTokenizer.from_pretrained(\"distilbert/distilbert-base-uncased\")"
   ]
  },
  {
   "cell_type": "code",
   "execution_count": 8,
   "id": "5996d361-f1fb-4e4f-b169-a5c95390103a",
   "metadata": {
    "editable": true,
    "slideshow": {
     "slide_type": ""
    },
    "tags": []
   },
   "outputs": [],
   "source": [
    "def preprocess_text(ds):\n",
    "    return tokenizer(ds[\"text\"], truncation=True)"
   ]
  },
  {
   "cell_type": "code",
   "execution_count": 9,
   "id": "4a19ecef-16be-4cb3-82e7-d366f6b49528",
   "metadata": {
    "editable": true,
    "slideshow": {
     "slide_type": ""
    },
    "tags": []
   },
   "outputs": [],
   "source": [
    "tokenized_ds = ds.map(preprocess_text, batched=True)"
   ]
  },
  {
   "cell_type": "code",
   "execution_count": 10,
   "id": "029ff0a5-9238-4e94-9efa-bb3ce98f075c",
   "metadata": {
    "editable": true,
    "slideshow": {
     "slide_type": ""
    },
    "tags": []
   },
   "outputs": [],
   "source": [
    "roc_auc = evaluate.load('roc_auc', 'binary')\n",
    "accuracy = evaluate.load('accuracy')\n",
    "f1 = evaluate.load('f1')\n",
    "precision = evaluate.load('precision')"
   ]
  },
  {
   "cell_type": "code",
   "execution_count": 11,
   "id": "cc68d9f6-17ff-4058-b64f-a9d1e1b71617",
   "metadata": {
    "editable": true,
    "slideshow": {
     "slide_type": ""
    },
    "tags": []
   },
   "outputs": [],
   "source": [
    "def compute_metrics(eval_pred):\n",
    "    logits, labels = eval_pred\n",
    "    pred = np.argmax(logits, axis=1)\n",
    "    probs = softmax(logits).max(axis=1)\n",
    "    return {\n",
    "        'accuracy': accuracy.compute(predictions=pred, references=labels)['accuracy'],\n",
    "        'f1': f1.compute(predictions=pred, references=labels)['f1'],\n",
    "        'precision': precision.compute(predictions=pred, references=labels)['precision'],\n",
    "        'roc_auc': roc_auc.compute(prediction_scores=probs, references=labels)['roc_auc']\n",
    "    }"
   ]
  },
  {
   "cell_type": "code",
   "execution_count": 12,
   "id": "1147b1cd-2f00-436e-bb4b-c9da3768fe38",
   "metadata": {
    "editable": true,
    "slideshow": {
     "slide_type": ""
    },
    "tags": []
   },
   "outputs": [],
   "source": [
    "repo_name = \"LHL_LLM_Project\"\n",
    "\n",
    "training_args = TrainingArguments(\n",
    "    learning_rate=7.578566728652807e-06,\n",
    "    per_device_train_batch_size=64,\n",
    "    per_device_eval_batch_size=64,\n",
    "    num_train_epochs=11,\n",
    "    weight_decay=0.01,\n",
    "    eval_strategy=\"epoch\",\n",
    "    save_strategy=\"epoch\",\n",
    "    load_best_model_at_end=True,\n",
    "    output_dir=repo_name,\n",
    "    push_to_hub=True,\n",
    ")"
   ]
  },
  {
   "cell_type": "code",
   "execution_count": 13,
   "id": "7db33a28-0d61-4dd4-a84f-5e18f25ee9a0",
   "metadata": {
    "editable": true,
    "slideshow": {
     "slide_type": ""
    },
    "tags": []
   },
   "outputs": [],
   "source": [
    "trainer = Trainer(\n",
    "    model=model,\n",
    "    args=training_args,\n",
    "    train_dataset=tokenized_ds['train'],\n",
    "    eval_dataset=tokenized_ds['test'],\n",
    "    processing_class=tokenizer,\n",
    "    compute_metrics=compute_metrics,\n",
    ")"
   ]
  },
  {
   "cell_type": "code",
   "execution_count": 14,
   "id": "e3b87af0-905f-476c-ad97-7bbf4b21477b",
   "metadata": {
    "editable": true,
    "slideshow": {
     "slide_type": ""
    },
    "tags": []
   },
   "outputs": [
    {
     "data": {
      "text/html": [
       "\n",
       "    <div>\n",
       "      \n",
       "      <progress value='4301' max='4301' style='width:300px; height:20px; vertical-align: middle;'></progress>\n",
       "      [4301/4301 4:32:11, Epoch 11/11]\n",
       "    </div>\n",
       "    <table border=\"1\" class=\"dataframe\">\n",
       "  <thead>\n",
       " <tr style=\"text-align: left;\">\n",
       "      <th>Epoch</th>\n",
       "      <th>Training Loss</th>\n",
       "      <th>Validation Loss</th>\n",
       "      <th>Accuracy</th>\n",
       "      <th>F1</th>\n",
       "      <th>Precision</th>\n",
       "      <th>Roc Auc</th>\n",
       "    </tr>\n",
       "  </thead>\n",
       "  <tbody>\n",
       "    <tr>\n",
       "      <td>1</td>\n",
       "      <td>No log</td>\n",
       "      <td>0.214715</td>\n",
       "      <td>0.916040</td>\n",
       "      <td>0.916037</td>\n",
       "      <td>0.916073</td>\n",
       "      <td>0.694555</td>\n",
       "    </tr>\n",
       "    <tr>\n",
       "      <td>2</td>\n",
       "      <td>0.295600</td>\n",
       "      <td>0.195826</td>\n",
       "      <td>0.925000</td>\n",
       "      <td>0.924714</td>\n",
       "      <td>0.928255</td>\n",
       "      <td>0.667926</td>\n",
       "    </tr>\n",
       "    <tr>\n",
       "      <td>3</td>\n",
       "      <td>0.182400</td>\n",
       "      <td>0.202159</td>\n",
       "      <td>0.925000</td>\n",
       "      <td>0.926236</td>\n",
       "      <td>0.911216</td>\n",
       "      <td>0.773378</td>\n",
       "    </tr>\n",
       "    <tr>\n",
       "      <td>4</td>\n",
       "      <td>0.146100</td>\n",
       "      <td>0.202633</td>\n",
       "      <td>0.927680</td>\n",
       "      <td>0.928020</td>\n",
       "      <td>0.923680</td>\n",
       "      <td>0.757221</td>\n",
       "    </tr>\n",
       "    <tr>\n",
       "      <td>5</td>\n",
       "      <td>0.146100</td>\n",
       "      <td>0.233143</td>\n",
       "      <td>0.923200</td>\n",
       "      <td>0.925140</td>\n",
       "      <td>0.902343</td>\n",
       "      <td>0.816395</td>\n",
       "    </tr>\n",
       "    <tr>\n",
       "      <td>6</td>\n",
       "      <td>0.109700</td>\n",
       "      <td>0.242889</td>\n",
       "      <td>0.926000</td>\n",
       "      <td>0.927085</td>\n",
       "      <td>0.913689</td>\n",
       "      <td>0.813913</td>\n",
       "    </tr>\n",
       "    <tr>\n",
       "      <td>7</td>\n",
       "      <td>0.084800</td>\n",
       "      <td>0.264023</td>\n",
       "      <td>0.923400</td>\n",
       "      <td>0.925198</td>\n",
       "      <td>0.903977</td>\n",
       "      <td>0.849364</td>\n",
       "    </tr>\n",
       "    <tr>\n",
       "      <td>8</td>\n",
       "      <td>0.070700</td>\n",
       "      <td>0.262245</td>\n",
       "      <td>0.927640</td>\n",
       "      <td>0.928097</td>\n",
       "      <td>0.922269</td>\n",
       "      <td>0.823711</td>\n",
       "    </tr>\n",
       "    <tr>\n",
       "      <td>9</td>\n",
       "      <td>0.055800</td>\n",
       "      <td>0.286813</td>\n",
       "      <td>0.925600</td>\n",
       "      <td>0.926331</td>\n",
       "      <td>0.917320</td>\n",
       "      <td>0.844230</td>\n",
       "    </tr>\n",
       "    <tr>\n",
       "      <td>10</td>\n",
       "      <td>0.055800</td>\n",
       "      <td>0.292641</td>\n",
       "      <td>0.926280</td>\n",
       "      <td>0.927140</td>\n",
       "      <td>0.916452</td>\n",
       "      <td>0.851365</td>\n",
       "    </tr>\n",
       "    <tr>\n",
       "      <td>11</td>\n",
       "      <td>0.049800</td>\n",
       "      <td>0.294531</td>\n",
       "      <td>0.926400</td>\n",
       "      <td>0.927169</td>\n",
       "      <td>0.917581</td>\n",
       "      <td>0.850602</td>\n",
       "    </tr>\n",
       "  </tbody>\n",
       "</table><p>"
      ],
      "text/plain": [
       "<IPython.core.display.HTML object>"
      ]
     },
     "metadata": {},
     "output_type": "display_data"
    },
    {
     "name": "stderr",
     "output_type": "stream",
     "text": [
      "No files have been modified since last commit. Skipping to prevent empty commit.\n"
     ]
    },
    {
     "data": {
      "text/plain": [
       "TrainOutput(global_step=4301, training_loss=0.1188958251623186, metrics={'train_runtime': 16338.2016, 'train_samples_per_second': 16.832, 'train_steps_per_second': 0.263, 'total_flos': 3.64284828853224e+16, 'train_loss': 0.1188958251623186, 'epoch': 11.0})"
      ]
     },
     "execution_count": 14,
     "metadata": {},
     "output_type": "execute_result"
    }
   ],
   "source": [
    "trainer.train()"
   ]
  },
  {
   "cell_type": "code",
   "execution_count": 17,
   "id": "47393789-9317-4f2c-a6fb-f9b206a4f0a0",
   "metadata": {},
   "outputs": [
    {
     "data": {
      "text/plain": [
       "{'eval_loss': 0.19582612812519073,\n",
       " 'eval_accuracy': 0.925,\n",
       " 'eval_f1': 0.9247139128689018,\n",
       " 'eval_precision': 0.928254735993551,\n",
       " 'eval_roc_auc': 0.6679258527999999,\n",
       " 'eval_runtime': 94.1169,\n",
       " 'eval_samples_per_second': 265.627,\n",
       " 'eval_steps_per_second': 4.154,\n",
       " 'epoch': 11.0}"
      ]
     },
     "execution_count": 17,
     "metadata": {},
     "output_type": "execute_result"
    }
   ],
   "source": [
    "trainer.evaluate()"
   ]
  },
  {
   "cell_type": "code",
   "execution_count": 16,
   "id": "0ce1dabf-421a-4e8d-90fa-667e9ecbe317",
   "metadata": {},
   "outputs": [
    {
     "data": {
      "text/plain": [
       "CommitInfo(commit_url='https://huggingface.co/Gur212/LHL_LLM_Project/commit/d1813eee47bb8aad97d51fa6f4fb35fe4f94cd74', commit_message='End of training', commit_description='', oid='d1813eee47bb8aad97d51fa6f4fb35fe4f94cd74', pr_url=None, repo_url=RepoUrl('https://huggingface.co/Gur212/LHL_LLM_Project', endpoint='https://huggingface.co', repo_type='model', repo_id='Gur212/LHL_LLM_Project'), pr_revision=None, pr_num=None)"
      ]
     },
     "execution_count": 16,
     "metadata": {},
     "output_type": "execute_result"
    }
   ],
   "source": [
    "trainer.push_to_hub()"
   ]
  },
  {
   "cell_type": "code",
   "execution_count": null,
   "id": "f28aa9a4-1b61-44d4-b7c5-43c5f62c6158",
   "metadata": {},
   "outputs": [],
   "source": []
  }
 ],
 "metadata": {
  "kernelspec": {
   "display_name": "LHLenv",
   "language": "python",
   "name": "lhlenv"
  },
  "language_info": {
   "codemirror_mode": {
    "name": "ipython",
    "version": 3
   },
   "file_extension": ".py",
   "mimetype": "text/x-python",
   "name": "python",
   "nbconvert_exporter": "python",
   "pygments_lexer": "ipython3",
   "version": "3.12.7"
  }
 },
 "nbformat": 4,
 "nbformat_minor": 5
}
